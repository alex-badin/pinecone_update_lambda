{
 "cells": [
  {
   "cell_type": "markdown",
   "metadata": {},
   "source": [
    "# Testing Summarizer\n",
    "\n",
    "This notebook is for testing and experimenting with the Gemini-based text summarizer."
   ]
  },
  {
   "cell_type": "code",
   "execution_count": 1,
   "metadata": {},
   "outputs": [
    {
     "name": "stderr",
     "output_type": "stream",
     "text": [
      "/Users/alexbadin/miniconda3/envs/llm_cloud/lib/python3.11/site-packages/tqdm/auto.py:21: TqdmWarning: IProgress not found. Please update jupyter and ipywidgets. See https://ipywidgets.readthedocs.io/en/stable/user_install.html\n",
      "  from .autonotebook import tqdm as notebook_tqdm\n"
     ]
    }
   ],
   "source": [
    "import os\n",
    "import sys\n",
    "sys.path.append('..')\n",
    "from src.summarizer import Summarizer"
   ]
  },
  {
   "cell_type": "code",
   "execution_count": 2,
   "metadata": {},
   "outputs": [],
   "source": [
    "# Initialize the summarizer\n",
    "api_key = os.environ.get('GEMINI_API_KEY')\n",
    "if not api_key:\n",
    "    raise ValueError(\"Please set GEMINI_API_KEY environment variable\")\n",
    "\n",
    "summarizer = Summarizer(api_key)"
   ]
  },
  {
   "cell_type": "markdown",
   "metadata": {},
   "source": [
    "## Test with Russian Text\n",
    "\n",
    "Since our main use case is Russian text, let's test with a Russian sample:"
   ]
  },
  {
   "cell_type": "code",
   "execution_count": 5,
   "metadata": {},
   "outputs": [
    {
     "name": "stdout",
     "output_type": "stream",
     "text": [
      "Original text:\n",
      "\n",
      "В последние годы искусственный интеллект становится все более важной частью нашей жизни.\n",
      "Технологии машинного обучения применяются в различных областях, от медицины до образования.\n",
      "Многие эксперты считают, что это только начало технологической революции.\n",
      "Важно внимательно следить за развитием этих технологий и их влиянием на общество.\n",
      "\n",
      "\n",
      "Summary (500 symbols):\n",
      "\n",
      "Is digest: False\n",
      "Искусственный интеллект и машинное обучение стремительно развиваются, внедряясь в медицину, образование и другие сферы.  Эксперты предвидят масштабную технологическую революцию.  Важно отслеживать развитие ИИ и его социальные последствия.\n"
     ]
    }
   ],
   "source": [
    "russian_text = \"\"\"\n",
    "В последние годы искусственный интеллект становится все более важной частью нашей жизни.\n",
    "Технологии машинного обучения применяются в различных областях, от медицины до образования.\n",
    "Многие эксперты считают, что это только начало технологической революции.\n",
    "Важно внимательно следить за развитием этих технологий и их влиянием на общество.\n",
    "\"\"\"\n",
    "max_symbols = 500\n",
    "summary, is_digest = summarizer.summarize(russian_text, max_symbols=max_symbols)\n",
    "\n",
    "print(\"Original text:\")\n",
    "print(russian_text)\n",
    "print(f\"\\nSummary ({max_symbols} symbols):\")\n",
    "print(f\"\\nIs digest: {is_digest}\")\n",
    "print(summary)\n"
   ]
  },
  {
   "cell_type": "markdown",
   "metadata": {},
   "source": [
    "## corpus of texts analysis\n"
   ]
  },
  {
   "cell_type": "code",
   "execution_count": 7,
   "metadata": {},
   "outputs": [
    {
     "name": "stdout",
     "output_type": "stream",
     "text": [
      "(43856, 39)\n"
     ]
    },
    {
     "data": {
      "text/html": [
       "<div>\n",
       "<style scoped>\n",
       "    .dataframe tbody tr th:only-of-type {\n",
       "        vertical-align: middle;\n",
       "    }\n",
       "\n",
       "    .dataframe tbody tr th {\n",
       "        vertical-align: top;\n",
       "    }\n",
       "\n",
       "    .dataframe thead th {\n",
       "        text-align: right;\n",
       "    }\n",
       "</style>\n",
       "<table border=\"1\" class=\"dataframe\">\n",
       "  <thead>\n",
       "    <tr style=\"text-align: right;\">\n",
       "      <th></th>\n",
       "      <th>index</th>\n",
       "      <th>_</th>\n",
       "      <th>peer_id</th>\n",
       "      <th>date</th>\n",
       "      <th>message</th>\n",
       "      <th>out</th>\n",
       "      <th>mentioned</th>\n",
       "      <th>media_unread</th>\n",
       "      <th>silent</th>\n",
       "      <th>post</th>\n",
       "      <th>...</th>\n",
       "      <th>restriction_reason</th>\n",
       "      <th>ttl_period</th>\n",
       "      <th>cleaned_message</th>\n",
       "      <th>summary</th>\n",
       "      <th>embeddings</th>\n",
       "      <th>channel</th>\n",
       "      <th>stance</th>\n",
       "      <th>action</th>\n",
       "      <th>values</th>\n",
       "      <th>id</th>\n",
       "    </tr>\n",
       "  </thead>\n",
       "  <tbody>\n",
       "    <tr>\n",
       "      <th>0</th>\n",
       "      <td>0.0</td>\n",
       "      <td>Message</td>\n",
       "      <td>{'_': 'PeerChannel', 'channel_id': 1407902266}</td>\n",
       "      <td>2023-10-10 19:08:34+00:00</td>\n",
       "      <td>17-ого октября в 15:45 в Московском городском ...</td>\n",
       "      <td>False</td>\n",
       "      <td>False</td>\n",
       "      <td>False</td>\n",
       "      <td>False</td>\n",
       "      <td>True</td>\n",
       "      <td>...</td>\n",
       "      <td>[]</td>\n",
       "      <td>None</td>\n",
       "      <td>17-ого октября в 15:45 в Московском городском ...</td>\n",
       "      <td>17-ого октября в 15:45 в Московском городском ...</td>\n",
       "      <td>[-0.021188057959079742, 0.010992590337991714, ...</td>\n",
       "      <td>strelkovii</td>\n",
       "      <td>voenkor</td>\n",
       "      <td>NaN</td>\n",
       "      <td>NaN</td>\n",
       "      <td>NaN</td>\n",
       "    </tr>\n",
       "    <tr>\n",
       "      <th>1</th>\n",
       "      <td>1.0</td>\n",
       "      <td>Message</td>\n",
       "      <td>{'_': 'PeerChannel', 'channel_id': 1407902266}</td>\n",
       "      <td>2023-10-12 14:27:29+00:00</td>\n",
       "      <td>Эфир председателя Центрального совета Русского...</td>\n",
       "      <td>False</td>\n",
       "      <td>False</td>\n",
       "      <td>False</td>\n",
       "      <td>False</td>\n",
       "      <td>True</td>\n",
       "      <td>...</td>\n",
       "      <td>[]</td>\n",
       "      <td>None</td>\n",
       "      <td>Эфир председателя Центрального совета Русского...</td>\n",
       "      <td>Эфир председателя Центрального совета Русского...</td>\n",
       "      <td>[-0.020297301933169365, 0.004881671164184809, ...</td>\n",
       "      <td>strelkovii</td>\n",
       "      <td>voenkor</td>\n",
       "      <td>NaN</td>\n",
       "      <td>NaN</td>\n",
       "      <td>NaN</td>\n",
       "    </tr>\n",
       "    <tr>\n",
       "      <th>2</th>\n",
       "      <td>2.0</td>\n",
       "      <td>Message</td>\n",
       "      <td>{'_': 'PeerChannel', 'channel_id': 1407902266}</td>\n",
       "      <td>2023-10-14 15:32:50+00:00</td>\n",
       "      <td>Икона Божьей Матери, написана 14.10.2016. Миро...</td>\n",
       "      <td>False</td>\n",
       "      <td>False</td>\n",
       "      <td>False</td>\n",
       "      <td>False</td>\n",
       "      <td>True</td>\n",
       "      <td>...</td>\n",
       "      <td>[]</td>\n",
       "      <td>None</td>\n",
       "      <td>Икона Божьей Матери, написана 14.10.2016. Миро...</td>\n",
       "      <td>Икона Божьей Матери, написана 14.10.2016. Миро...</td>\n",
       "      <td>[-0.00942696537822485, -0.021588075906038284, ...</td>\n",
       "      <td>strelkovii</td>\n",
       "      <td>voenkor</td>\n",
       "      <td>NaN</td>\n",
       "      <td>NaN</td>\n",
       "      <td>NaN</td>\n",
       "    </tr>\n",
       "    <tr>\n",
       "      <th>3</th>\n",
       "      <td>3.0</td>\n",
       "      <td>Message</td>\n",
       "      <td>{'_': 'PeerChannel', 'channel_id': 1407902266}</td>\n",
       "      <td>2023-10-02 16:09:03+00:00</td>\n",
       "      <td>Дорогие друзья, 7 октября, в субботу, в 17:00 ...</td>\n",
       "      <td>False</td>\n",
       "      <td>False</td>\n",
       "      <td>False</td>\n",
       "      <td>False</td>\n",
       "      <td>True</td>\n",
       "      <td>...</td>\n",
       "      <td>[]</td>\n",
       "      <td>None</td>\n",
       "      <td>Дорогие друзья, 7 октября, в субботу, в 17:00 ...</td>\n",
       "      <td>Встречу начнём с фильма про Игоря Ивановича «С...</td>\n",
       "      <td>[-0.015948306769132614, -0.027243398129940033,...</td>\n",
       "      <td>strelkovii</td>\n",
       "      <td>voenkor</td>\n",
       "      <td>NaN</td>\n",
       "      <td>NaN</td>\n",
       "      <td>NaN</td>\n",
       "    </tr>\n",
       "    <tr>\n",
       "      <th>4</th>\n",
       "      <td>4.0</td>\n",
       "      <td>Message</td>\n",
       "      <td>{'_': 'PeerChannel', 'channel_id': 1407902266}</td>\n",
       "      <td>2023-10-07 17:41:36+00:00</td>\n",
       "      <td>Игорь всегда цитирует: «Делай, что должен, и б...</td>\n",
       "      <td>False</td>\n",
       "      <td>False</td>\n",
       "      <td>False</td>\n",
       "      <td>False</td>\n",
       "      <td>True</td>\n",
       "      <td>...</td>\n",
       "      <td>[]</td>\n",
       "      <td>None</td>\n",
       "      <td>Игорь всегда цитирует: «Делай, что должен, и б...</td>\n",
       "      <td>17 октября апелляция, мы тщательно готовимся к...</td>\n",
       "      <td>[-0.032007887959480286, -0.009203588590025902,...</td>\n",
       "      <td>strelkovii</td>\n",
       "      <td>voenkor</td>\n",
       "      <td>NaN</td>\n",
       "      <td>NaN</td>\n",
       "      <td>NaN</td>\n",
       "    </tr>\n",
       "  </tbody>\n",
       "</table>\n",
       "<p>5 rows × 39 columns</p>\n",
       "</div>"
      ],
      "text/plain": [
       "   index        _                                         peer_id  \\\n",
       "0    0.0  Message  {'_': 'PeerChannel', 'channel_id': 1407902266}   \n",
       "1    1.0  Message  {'_': 'PeerChannel', 'channel_id': 1407902266}   \n",
       "2    2.0  Message  {'_': 'PeerChannel', 'channel_id': 1407902266}   \n",
       "3    3.0  Message  {'_': 'PeerChannel', 'channel_id': 1407902266}   \n",
       "4    4.0  Message  {'_': 'PeerChannel', 'channel_id': 1407902266}   \n",
       "\n",
       "                       date  \\\n",
       "0 2023-10-10 19:08:34+00:00   \n",
       "1 2023-10-12 14:27:29+00:00   \n",
       "2 2023-10-14 15:32:50+00:00   \n",
       "3 2023-10-02 16:09:03+00:00   \n",
       "4 2023-10-07 17:41:36+00:00   \n",
       "\n",
       "                                             message    out  mentioned  \\\n",
       "0  17-ого октября в 15:45 в Московском городском ...  False      False   \n",
       "1  Эфир председателя Центрального совета Русского...  False      False   \n",
       "2  Икона Божьей Матери, написана 14.10.2016. Миро...  False      False   \n",
       "3  Дорогие друзья, 7 октября, в субботу, в 17:00 ...  False      False   \n",
       "4  Игорь всегда цитирует: «Делай, что должен, и б...  False      False   \n",
       "\n",
       "   media_unread  silent  post  ... restriction_reason  ttl_period  \\\n",
       "0         False   False  True  ...                 []        None   \n",
       "1         False   False  True  ...                 []        None   \n",
       "2         False   False  True  ...                 []        None   \n",
       "3         False   False  True  ...                 []        None   \n",
       "4         False   False  True  ...                 []        None   \n",
       "\n",
       "                                     cleaned_message  \\\n",
       "0  17-ого октября в 15:45 в Московском городском ...   \n",
       "1  Эфир председателя Центрального совета Русского...   \n",
       "2  Икона Божьей Матери, написана 14.10.2016. Миро...   \n",
       "3  Дорогие друзья, 7 октября, в субботу, в 17:00 ...   \n",
       "4  Игорь всегда цитирует: «Делай, что должен, и б...   \n",
       "\n",
       "                                             summary  \\\n",
       "0  17-ого октября в 15:45 в Московском городском ...   \n",
       "1  Эфир председателя Центрального совета Русского...   \n",
       "2  Икона Божьей Матери, написана 14.10.2016. Миро...   \n",
       "3  Встречу начнём с фильма про Игоря Ивановича «С...   \n",
       "4  17 октября апелляция, мы тщательно готовимся к...   \n",
       "\n",
       "                                          embeddings     channel   stance  \\\n",
       "0  [-0.021188057959079742, 0.010992590337991714, ...  strelkovii  voenkor   \n",
       "1  [-0.020297301933169365, 0.004881671164184809, ...  strelkovii  voenkor   \n",
       "2  [-0.00942696537822485, -0.021588075906038284, ...  strelkovii  voenkor   \n",
       "3  [-0.015948306769132614, -0.027243398129940033,...  strelkovii  voenkor   \n",
       "4  [-0.032007887959480286, -0.009203588590025902,...  strelkovii  voenkor   \n",
       "\n",
       "  action values  id  \n",
       "0    NaN    NaN NaN  \n",
       "1    NaN    NaN NaN  \n",
       "2    NaN    NaN NaN  \n",
       "3    NaN    NaN NaN  \n",
       "4    NaN    NaN NaN  \n",
       "\n",
       "[5 rows x 39 columns]"
      ]
     },
     "execution_count": 7,
     "metadata": {},
     "output_type": "execute_result"
    }
   ],
   "source": [
    "import pandas as pd\n",
    "data_path = '/Users/alexbadin/Library/CloudStorage/GoogleDrive-alex.badin@gmail.com/My Drive/Colab Notebooks/Narratives/TG_messages'\n",
    "# Get all pickle files in the directory\n",
    "import glob\n",
    "\n",
    "# Initialize an empty list to store dataframes\n",
    "dfs = []\n",
    "\n",
    "# Find all pickle files in the directory\n",
    "pickle_files = glob.glob(os.path.join(data_path, '*.pkl'))\n",
    "\n",
    "# Read and combine all pickle files\n",
    "for file in pickle_files:\n",
    "    with open(file, 'rb') as f:\n",
    "        df_temp = pd.read_pickle(f)\n",
    "        dfs.append(df_temp)\n",
    "\n",
    "# Concatenate all dataframes\n",
    "df = pd.concat(dfs, ignore_index=True)\n",
    "print(df.shape)\n",
    "df.head()"
   ]
  },
  {
   "cell_type": "code",
   "execution_count": 25,
   "metadata": {},
   "outputs": [
    {
     "data": {
      "image/png": "[encoded data removed]",
      "text/plain": [
       "<Figure size 1500x500 with 1 Axes>"
      ]
     },
     "metadata": {},
     "output_type": "display_data"
    },
    {
     "name": "stdout",
     "output_type": "stream",
     "text": [
      "\n",
      "Length Statistics:\n",
      "            Message  Cleaned Message       Summary\n",
      "count  43856.000000     43856.000000  43856.000000\n",
      "mean     496.285594       489.952184    282.727198\n",
      "std      446.766960       440.069389    139.100208\n",
      "min       31.000000        31.000000     31.000000\n",
      "25%      176.000000       174.000000    167.000000\n",
      "50%      365.000000       361.500000    272.000000\n",
      "75%      661.000000       651.000000    383.000000\n",
      "max     4094.000000      4094.000000   1935.000000\n"
     ]
    }
   ],
   "source": [
    "import matplotlib.pyplot as plt\n",
    "import numpy as np\n",
    "\n",
    "# Calculate lengths\n",
    "df['message_length'] = df['message'].str.len()\n",
    "df['cleaned_message_length'] = df['cleaned_message'].str.len() \n",
    "df['summary_length'] = df['summary'].str.len()\n",
    "\n",
    "# Create figure\n",
    "plt.figure(figsize=(15, 5))\n",
    "\n",
    "# Calculate common bin edges based on all data\n",
    "all_lengths = pd.concat([\n",
    "    df['message_length'].dropna(),\n",
    "    df['cleaned_message_length'].dropna(),\n",
    "    df['summary_length'].dropna()\n",
    "])\n",
    "min_val = all_lengths.min()\n",
    "max_val = all_lengths.max()\n",
    "bins = np.linspace(min_val, max_val, 50)\n",
    "\n",
    "# Plot histograms overlaid with common bins\n",
    "plt.hist(df['message_length'].dropna(), bins=bins, alpha=0.3, label='Original Messages')\n",
    "plt.hist(df['cleaned_message_length'].dropna(), bins=bins, alpha=0.3, label='Cleaned Messages')\n",
    "plt.hist(df['summary_length'].dropna(), bins=bins, alpha=0.3, label='Summaries')\n",
    "\n",
    "plt.title('Length Distributions')\n",
    "plt.xlabel('Length (characters)')\n",
    "plt.ylabel('Count')\n",
    "plt.legend()\n",
    "\n",
    "plt.tight_layout()\n",
    "plt.show()\n",
    "\n",
    "# Print summary statistics\n",
    "print(\"\\nLength Statistics:\")\n",
    "stats_df = pd.DataFrame({\n",
    "    'Message': df['message_length'].describe(),\n",
    "    'Cleaned Message': df['cleaned_message_length'].describe(), \n",
    "    'Summary': df['summary_length'].describe()\n",
    "})\n",
    "print(stats_df)\n"
   ]
  },
  {
   "cell_type": "code",
   "execution_count": 23,
   "metadata": {},
   "outputs": [
    {
     "data": {
      "text/plain": [
       "message_length            0\n",
       "cleaned_message_length    0\n",
       "summary_length            0\n",
       "dtype: int64"
      ]
     },
     "execution_count": 23,
     "metadata": {},
     "output_type": "execute_result"
    }
   ],
   "source": [
    "df[['message_length', 'cleaned_message_length', 'summary_length']].isna().sum()"
   ]
  },
  {
   "cell_type": "markdown",
   "metadata": {},
   "source": [
    "## Test with Sample Texts"
   ]
  },
  {
   "cell_type": "code",
   "execution_count": 12,
   "metadata": {},
   "outputs": [
    {
     "name": "stderr",
     "output_type": "stream",
     "text": [
      "100%|██████████| 15/15 [00:15<00:00,  1.00s/it]\n"
     ]
    }
   ],
   "source": [
    "from tqdm import tqdm\n",
    "# Get random sample of 15 rows\n",
    "df_sample = df.sample(n=15)[['cleaned_message', 'summary']]\n",
    "\n",
    "# Generate summaries and digest flags using summarizer\n",
    "summaries = []\n",
    "is_digest_flags = []\n",
    "\n",
    "for text in tqdm(df_sample['cleaned_message']):\n",
    "    summary, is_digest = summarizer.summarize(text)\n",
    "    summaries.append(summary)\n",
    "    is_digest_flags.append(is_digest)\n",
    "\n",
    "# Add new columns\n",
    "df_sample['gemini_summary'] = summaries\n",
    "df_sample['is_digest'] = is_digest_flags"
   ]
  },
  {
   "cell_type": "code",
   "execution_count": 14,
   "metadata": {},
   "outputs": [],
   "source": [
    "df_sample.to_clipboard()"
   ]
  },
  {
   "cell_type": "code",
   "execution_count": null,
   "metadata": {},
   "outputs": [],
   "source": []
  },
  {
   "cell_type": "code",
   "execution_count": null,
   "metadata": {},
   "outputs": [],
   "source": []
  },
  {
   "cell_type": "code",
   "execution_count": 9,
   "metadata": {},
   "outputs": [],
   "source": [
    "sample_texts = df.news.sample(10).tolist()\n",
    "\n",
    "summaries = {'original': [], 'summary': []}\n",
    "\n",
    "for text in sample_texts:\n",
    "    summary = summarizer.summarize(text, max_sentences=2)\n",
    "    summaries['original'].append(text)\n",
    "    summaries['summary'].append(summary)"
   ]
  },
  {
   "cell_type": "code",
   "execution_count": 11,
   "metadata": {},
   "outputs": [],
   "source": [
    "pd.DataFrame(summaries).to_clipboard()\n"
   ]
  },
  {
   "cell_type": "code",
   "execution_count": null,
   "metadata": {},
   "outputs": [],
   "source": []
  },
  {
   "cell_type": "markdown",
   "metadata": {},
   "source": [
    "## Test with Sample Text"
   ]
  },
  {
   "cell_type": "code",
   "execution_count": 5,
   "metadata": {},
   "outputs": [
    {
     "name": "stdout",
     "output_type": "stream",
     "text": [
      "Original text:\n",
      "\n",
      "This is a sample text that we'll use to test our summarizer.\n",
      "It contains multiple sentences with various information.\n",
      "We want to see how well the summarizer captures the main points.\n",
      "The summary should be concise but maintain the key information.\n",
      "Let's see how it performs with this test case.\n",
      "\n",
      "\n",
      "Summary (2 sentences):\n",
      "The goal of this text summarizer is to capture the main points of a given text and create a concise, meaningful summary. It aims to maintain the original meaning and highlight the most important information.\n"
     ]
    }
   ],
   "source": [
    "sample_text = \"\"\"\n",
    "This is a sample text that we'll use to test our summarizer.\n",
    "It contains multiple sentences with various information.\n",
    "We want to see how well the summarizer captures the main points.\n",
    "The summary should be concise but maintain the key information.\n",
    "Let's see how it performs with this test case.\n",
    "\"\"\"\n",
    "\n",
    "print(\"Original text:\")\n",
    "print(sample_text)\n",
    "print(\"\\nSummary (2 sentences):\")\n",
    "print(summarizer.summarize(sample_text, max_sentences=2))"
   ]
  },
  {
   "cell_type": "markdown",
   "metadata": {},
   "source": [
    "## Test with Different Lengths"
   ]
  },
  {
   "cell_type": "code",
   "execution_count": null,
   "metadata": {},
   "outputs": [],
   "source": [
    "def test_different_lengths(text):\n",
    "    for sentences in [1, 2, 3]:\n",
    "        print(f\"\\nSummary with {sentences} sentence{'s' if sentences > 1 else ''}:\")\n",
    "        print(summarizer.summarize(text, max_sentences=sentences))\n",
    "\n",
    "test_different_lengths(sample_text)"
   ]
  },
  {
   "cell_type": "markdown",
   "metadata": {},
   "source": [
    "## Test with Your Own Text\n",
    "\n",
    "You can paste your text in the variable below and run the cell to test the summarizer:"
   ]
  },
  {
   "cell_type": "code",
   "execution_count": null,
   "metadata": {},
   "outputs": [],
   "source": [
    "your_text = \"\"\"Paste your text here...\"\"\"\n",
    "\n",
    "print(\"Summary (2 sentences):\")\n",
    "print(summarizer.summarize(your_text, max_sentences=2))"
   ]
  },
  {
   "cell_type": "code",
   "execution_count": null,
   "metadata": {},
   "outputs": [],
   "source": []
  }
 ],
 "metadata": {
  "kernelspec": {
   "display_name": "Python 3",
   "language": "python",
   "name": "python3"
  },
  "language_info": {
   "codemirror_mode": {
    "name": "ipython",
    "version": 3
   },
   "file_extension": ".py",
   "mimetype": "text/x-python",
   "name": "python",
   "nbconvert_exporter": "python",
   "pygments_lexer": "ipython3",
   "version": "3.11.9"
  }
 },
 "nbformat": 4,
 "nbformat_minor": 4
}
