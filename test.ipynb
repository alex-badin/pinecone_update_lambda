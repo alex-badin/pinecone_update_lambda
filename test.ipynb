{
 "cells": [
  {
   "cell_type": "code",
   "execution_count": 2,
   "metadata": {},
   "outputs": [],
   "source": [
    "import os\n",
    "import cohere\n",
    "from dotenv import load_dotenv\n",
    "\n",
    "# Load environment variables from .env file\n",
    "load_dotenv()\n",
    "\n",
    "# Get the Cohere API key from environment variables\n",
    "COHERE_KEY = \"\"\n",
    "\n",
    "# Initialize the Cohere client\n",
    "co = cohere.Client(COHERE_KEY)\n",
    "\n",
    "def test_embeddings():\n",
    "    # Sample texts to embed\n",
    "    texts = [\n",
    "        \"This is a test sentence in English.\",\n",
    "        \"Это тестовое предложение на русском языке.\",\n",
    "        \"This is another test sentence to check embedding generation.\"\n",
    "    ]\n",
    "\n",
    "    try:\n",
    "        # Get embeddings\n",
    "        embeddings = co.embed(texts=texts, model=\"embed-multilingual-v3.0\", input_type=\"clustering\").embeddings\n",
    "        \n",
    "        # Print results\n",
    "        for i, (text, embedding) in enumerate(zip(texts, embeddings)):\n",
    "            print(f\"Text {i + 1}: {text}\")\n",
    "            print(f\"Embedding dimension: {len(embedding)}\")\n",
    "            print(f\"First 5 values: {embedding[:5]}\")\n",
    "            print()\n",
    "\n",
    "        print(\"Embeddings retrieved successfully!\")\n",
    "    except Exception as e:\n",
    "        print(f\"Error retrieving embeddings: {str(e)}\")"
   ]
  },
  {
   "cell_type": "code",
   "execution_count": 3,
   "metadata": {},
   "outputs": [
    {
     "name": "stdout",
     "output_type": "stream",
     "text": [
      "Text 1: This is a test sentence in English.\n",
      "Embedding dimension: 1024\n",
      "First 5 values: [-0.013206482, 0.01928711, -0.0124053955, 0.029037476, -0.002729416]\n",
      "\n",
      "Text 2: Это тестовое предложение на русском языке.\n",
      "Embedding dimension: 1024\n",
      "First 5 values: [-0.013427734, 0.017944336, -0.058380127, 0.026321411, -0.014907837]\n",
      "\n",
      "Text 3: This is another test sentence to check embedding generation.\n",
      "Embedding dimension: 1024\n",
      "First 5 values: [-0.046051025, 0.023635864, -0.011566162, -0.003982544, 0.013389587]\n",
      "\n",
      "Embeddings retrieved successfully!\n"
     ]
    }
   ],
   "source": [
    "test_embeddings()"
   ]
  }
 ],
 "metadata": {
  "kernelspec": {
   "display_name": "db_prep",
   "language": "python",
   "name": "python3"
  },
  "language_info": {
   "codemirror_mode": {
    "name": "ipython",
    "version": 3
   },
   "file_extension": ".py",
   "mimetype": "text/x-python",
   "name": "python",
   "nbconvert_exporter": "python",
   "pygments_lexer": "ipython3",
   "version": "3.11.4"
  }
 },
 "nbformat": 4,
 "nbformat_minor": 2
}
